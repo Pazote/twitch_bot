{
 "cells": [
  {
   "cell_type": "code",
   "execution_count": 5,
   "metadata": {},
   "outputs": [],
   "source": [
    "from selenium import webdriver\n",
    "from selenium.webdriver.chrome.service import Service\n",
    "from selenium.webdriver.common.by import By\n",
    "from webdriver_manager.chrome import ChromeDriverManager\n",
    "import pyautogui\n",
    "import time\n",
    "\n",
    "pyautogui.PAUSE = .5\n",
    "tempo_mensagens = 300\n",
    "site = \"https://www.twitch.tv/cabrito_montes\"\n",
    "str(site)\n",
    "\n",
    "servico = Service(ChromeDriverManager().install())\n",
    "navegador = webdriver.Chrome(service=servico)"
   ]
  },
  {
   "cell_type": "code",
   "execution_count": 6,
   "metadata": {},
   "outputs": [],
   "source": [
    "#abrir navegador\n",
    "def iniciar():\n",
    "    pyautogui.press(\"win\")\n",
    "    pyautogui.write(\"edg\")\n",
    "    pyautogui.press(\"enter\")\n",
    "    pyautogui.click(x=-1002, y=52)\n",
    "    pyautogui.write(site)\n",
    "    pyautogui.press(\"enter\")"
   ]
  },
  {
   "cell_type": "code",
   "execution_count": 7,
   "metadata": {},
   "outputs": [],
   "source": [
    "#spam de mensagens:\n",
    "def spam():\n",
    "    time.sleep(5)\n",
    "    pyautogui.click(x=-231, y=986)\n",
    "    pyautogui.write(\"cabriFestaa\")\n",
    "    pyautogui.click(x=-60, y=1034)\n",
    "    time.sleep(tempo_mensagens)\n",
    "    pyautogui.click(x=-231, y=986)\n",
    "    pyautogui.write(\"cabriChoro\")\n",
    "    pyautogui.click(x=-60, y=1034)\n",
    "    time.sleep(tempo_mensagens)"
   ]
  },
  {
   "cell_type": "code",
   "execution_count": 8,
   "metadata": {},
   "outputs": [
    {
     "name": "stdout",
     "output_type": "stream",
     "text": [
      "AO VIVO\n"
     ]
    },
    {
     "ename": "KeyboardInterrupt",
     "evalue": "",
     "output_type": "error",
     "traceback": [
      "\u001b[1;31m---------------------------------------------------------------------------\u001b[0m",
      "\u001b[1;31mKeyboardInterrupt\u001b[0m                         Traceback (most recent call last)",
      "Cell \u001b[1;32mIn[8], line 15\u001b[0m\n\u001b[0;32m     10\u001b[0m \u001b[39mprint\u001b[39m(isliveon)\n\u001b[0;32m     13\u001b[0m \u001b[39mwhile\u001b[39;00m isliveon \u001b[39min\u001b[39;00m [\u001b[39m'\u001b[39m\u001b[39mAO VIVO\u001b[39m\u001b[39m'\u001b[39m]:\n\u001b[1;32m---> 15\u001b[0m    spam()\n\u001b[0;32m     17\u001b[0m \u001b[39mprint\u001b[39m(\u001b[39m'\u001b[39m\u001b[39mA live foi encerrada\u001b[39m\u001b[39m'\u001b[39m)\n",
      "Cell \u001b[1;32mIn[7], line 7\u001b[0m, in \u001b[0;36mspam\u001b[1;34m()\u001b[0m\n\u001b[0;32m      5\u001b[0m pyautogui\u001b[39m.\u001b[39mwrite(\u001b[39m\"\u001b[39m\u001b[39mcabriFestaa\u001b[39m\u001b[39m\"\u001b[39m)\n\u001b[0;32m      6\u001b[0m pyautogui\u001b[39m.\u001b[39mclick(x\u001b[39m=\u001b[39m\u001b[39m-\u001b[39m\u001b[39m60\u001b[39m, y\u001b[39m=\u001b[39m\u001b[39m1034\u001b[39m)\n\u001b[1;32m----> 7\u001b[0m time\u001b[39m.\u001b[39;49msleep(tempo_mensagens)\n\u001b[0;32m      8\u001b[0m pyautogui\u001b[39m.\u001b[39mclick(x\u001b[39m=\u001b[39m\u001b[39m-\u001b[39m\u001b[39m231\u001b[39m, y\u001b[39m=\u001b[39m\u001b[39m986\u001b[39m)\n\u001b[0;32m      9\u001b[0m pyautogui\u001b[39m.\u001b[39mwrite(\u001b[39m\"\u001b[39m\u001b[39mcabriChoro\u001b[39m\u001b[39m\"\u001b[39m)\n",
      "\u001b[1;31mKeyboardInterrupt\u001b[0m: "
     ]
    }
   ],
   "source": [
    "#corpo do programa\n",
    "navegador.get(site)\n",
    "iniciar()\n",
    "\n",
    "#verificando se a live está online\n",
    "isliveon = navegador.find_element(By.XPATH, '/html/body/div[1]/div/div[2]/div/main/div[1]/div[3]/div/div/div[1]/div[1]/div[2]/div/section/div/div/div/div/div[1]/div/div/div/a/div[2]/div/div/div').text\n",
    "str(isliveon)\n",
    "print(isliveon)\n",
    "\n",
    "#loop de mensagens\n",
    "while isliveon in ['AO VIVO']:\n",
    "\n",
    "   spam()\n",
    "\n",
    "print('A live foi encerrada')\n",
    "        "
   ]
  },
  {
   "cell_type": "code",
   "execution_count": null,
   "metadata": {},
   "outputs": [
    {
     "data": {
      "text/plain": [
       "Point(x=-231, y=986)"
      ]
     },
     "execution_count": 1,
     "metadata": {},
     "output_type": "execute_result"
    }
   ],
   "source": [
    "#medir posição do mouse:\n",
    "#import pyautogui\n",
    "#import time\n",
    "#time.sleep(3)\n",
    "#pyautogui.position()"
   ]
  }
 ],
 "metadata": {
  "kernelspec": {
   "display_name": "Python 3",
   "language": "python",
   "name": "python3"
  },
  "language_info": {
   "codemirror_mode": {
    "name": "ipython",
    "version": 3
   },
   "file_extension": ".py",
   "mimetype": "text/x-python",
   "name": "python",
   "nbconvert_exporter": "python",
   "pygments_lexer": "ipython3",
   "version": "3.9.13 (tags/v3.9.13:6de2ca5, May 17 2022, 16:36:42) [MSC v.1929 64 bit (AMD64)]"
  },
  "orig_nbformat": 4,
  "vscode": {
   "interpreter": {
    "hash": "4a12e4c8ee6bd622c48510b1c50504e292552a31d11accf8030b1414b215db65"
   }
  }
 },
 "nbformat": 4,
 "nbformat_minor": 2
}
